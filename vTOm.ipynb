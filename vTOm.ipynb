{
 "cells": [
  {
   "cell_type": "markdown",
   "metadata": {},
   "source": [
    "In order to have a better model of the real velocity of the wheels when we give an input to the motor we performed measures to obtain a linear regression of the datas. To do so we used the method shown in the Lab 8 of the course to estimate the velocity of the robot by measuring the time it took it to cross several white strips which are detected by the ground sensor. It gave the following results : "
   ]
  },
  {
   "cell_type": "markdown",
   "metadata": {},
   "source": [
    "<center><img src ='../vTOm.JPG' width = 400>"
   ]
  },
  {
   "cell_type": "markdown",
   "metadata": {},
   "source": [
    "Since the speed of the robot must be zero for a zero input we decided to not take into account the Offset. This approximation doesn't seems to bad since the higher the velocity is, the higher the standard deviation seems to be, hence the extreme values should be discarded. Hence the linear regression becomes :"
   ]
  },
  {
   "cell_type": "markdown",
   "metadata": {},
   "source": [
    "<center><img src ='../vTOm2.JPG' width = 400>"
   ]
  },
  {
   "cell_type": "markdown",
   "metadata": {},
   "source": [
    "By taking the value of $a$ one can now find the appropriate input to give to the motor to reach the desired speed in cm/s. The exact same method is used to estimate wTOm and a value of 130"
   ]
  }
 ],
 "metadata": {
  "kernelspec": {
   "display_name": "Python 3",
   "language": "python",
   "name": "python3"
  },
  "language_info": {
   "codemirror_mode": {
    "name": "ipython",
    "version": 3
   },
   "file_extension": ".py",
   "mimetype": "text/x-python",
   "name": "python",
   "nbconvert_exporter": "python",
   "pygments_lexer": "ipython3",
   "version": "3.7.9"
  }
 },
 "nbformat": 4,
 "nbformat_minor": 4
}
