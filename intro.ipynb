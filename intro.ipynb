{
 "cells": [
  {
   "cell_type": "markdown",
   "metadata": {},
   "source": [
    "## Introduction \n",
    "\n",
    "In this project, the aim was to control a mobile robot in a designed environnement so that it goes from a start postition to a goal position. This environment contains both static obstacles that needed to be detect by a vision module and moving obstacles that needed to be avoided in a reactive way. Different modules will be implemented to perform this task : \n",
    "\n",
    "    A vision module to detect the obstacles and the thymio on a map \n",
    "    \n",
    "    A path planning module to compute the shortest path for the robot\n",
    "    \n",
    "    A local avoidance module to avoid local obstacle using the sensor of the robot \n",
    "    \n",
    "    A Filtering module to improve the estimation fo the robot pose \n",
    "    \n",
    "    A Motion Control Module that will use all the previous module to give an input to the left and right motor of the thymio so that the thymio robot can avoid the global and local obstacle and reach the goal.\n",
    "    \n",
    "For our environement, we choose a map of 1 square meter delimited by colorfull corners (from top left to bottom right: green, yellow, red, and blue). The origin of the map will be the top left extremity of the green square. The x axis will point toward the yellow square and the y axis will point toward the red square. The angle theta of the robot is given as below on the figure.\n",
    "\n",
    "The aim is a cyan star and the robot is covered by an assymetric magenta shape that will allow the vision algorithm to detect the position and the angle of the robot. For the global obstacles we have triangles and polygones of different sizes that we can add anywhere on the map. This allow us to have a modular map so that we can test our motion control for different global obstacle layout.\n",
    "\n",
    "\n",
    "\n",
    "\n",
    "\n"
   ]
  },
  {
   "cell_type": "code",
   "execution_count": null,
   "metadata": {},
   "outputs": [],
   "source": []
  }
 ],
 "metadata": {
  "kernelspec": {
   "display_name": "Python 3",
   "language": "python",
   "name": "python3"
  },
  "language_info": {
   "codemirror_mode": {
    "name": "ipython",
    "version": 3
   },
   "file_extension": ".py",
   "mimetype": "text/x-python",
   "name": "python",
   "nbconvert_exporter": "python",
   "pygments_lexer": "ipython3",
   "version": "3.8.6"
  }
 },
 "nbformat": 4,
 "nbformat_minor": 4
}
