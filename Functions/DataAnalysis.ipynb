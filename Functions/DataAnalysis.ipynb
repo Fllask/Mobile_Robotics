{
 "cells": [
  {
   "cell_type": "markdown",
   "metadata": {},
   "source": [
    "# History data loading notebook"
   ]
  },
  {
   "cell_type": "code",
   "execution_count": 1,
   "metadata": {},
   "outputs": [],
   "source": [
    "import pickle\n",
    "import matplotlib.pyplot as plt\n",
    "import math"
   ]
  },
  {
   "cell_type": "code",
   "execution_count": 2,
   "metadata": {},
   "outputs": [],
   "source": [
    "# loading the history file (here history.pkl)\n",
    "f = open(\"run1.pkl\", \"rb\")\n",
    "data = pickle.load(f)"
   ]
  },
  {
   "cell_type": "code",
   "execution_count": 3,
   "metadata": {},
   "outputs": [
    {
     "name": "stdout",
     "output_type": "stream",
     "text": [
      "dict_keys(['visPos', 'fltPos', 'path', 'map', 'goal', 'pathComputed', 'vtime', 'started', 'running', 'time', 'state'])\n"
     ]
    }
   ],
   "source": [
    "print(data[0].keys())"
   ]
  },
  {
   "cell_type": "code",
   "execution_count": 4,
   "metadata": {},
   "outputs": [],
   "source": [
    "def loadKeySeq(data, key):\n",
    "    retList = []\n",
    "    for item in data:\n",
    "        retList.append(item[key])\n",
    "        \n",
    "    return retList"
   ]
  },
  {
   "cell_type": "markdown",
   "metadata": {},
   "source": [
    "## Plot example, running time of vision loop"
   ]
  },
  {
   "cell_type": "code",
   "execution_count": 5,
   "metadata": {},
   "outputs": [],
   "source": [
    "visTimes = loadKeySeq(data,'vtime')\n",
    "time = loadKeySeq(data,'time')"
   ]
  },
  {
   "cell_type": "code",
   "execution_count": 6,
   "metadata": {},
   "outputs": [],
   "source": [
    "visTimes = [float(el) for el in visTimes]\n",
    "time = [float(el) for el in time]"
   ]
  },
  {
   "cell_type": "code",
   "execution_count": 7,
   "metadata": {},
   "outputs": [
    {
     "name": "stdout",
     "output_type": "stream",
     "text": [
      "0.6511489707317082\n"
     ]
    }
   ],
   "source": [
    "avg_vis_time = sum(visTimes)/len(visTimes)\n",
    "print(avg_vis_time)"
   ]
  },
  {
   "cell_type": "code",
   "execution_count": 8,
   "metadata": {},
   "outputs": [
    {
     "data": {
      "text/plain": [
       "[<matplotlib.lines.Line2D at 0x7fc68d9fec40>]"
      ]
     },
     "execution_count": 8,
     "metadata": {},
     "output_type": "execute_result"
    },
    {
     "data": {
      "image/png": "[encoded data removed]",
      "text/plain": [
       "<Figure size 432x288 with 1 Axes>"
      ]
     },
     "metadata": {
      "needs_background": "light"
     },
     "output_type": "display_data"
    }
   ],
   "source": [
    "plt.plot(time,visTimes, 'bo') "
   ]
  },
  {
   "cell_type": "code",
   "execution_count": 9,
   "metadata": {},
   "outputs": [],
   "source": [
    "def mapPlot(map=False,start=False,finish=False,visPos=False, kalPos = False):\n",
    "        #plotting parameters\n",
    "        fsz = 8 # size of the plotted figure\n",
    "        polyColor = \"blue\" # color of the map polygons\n",
    "        polyFillColor = \"#b8e7f5\" # color of interior of the map polygons\n",
    "        startColor = \"green\" # color of the starting point\n",
    "        finishColor = \"red\" # color the the finish point\n",
    "        debugLineColor = \"red\"\n",
    "        emphasedLineColor = \"green\"\n",
    "\n",
    "        #defining a function to plot a polygon :\n",
    "        #setting map limits\n",
    "        plt.xlim(0,100)\n",
    "        plt.ylim(0,100)\n",
    "\n",
    "        fig = plt.gcf()\n",
    "        ax = fig.gca()\n",
    "\n",
    "        ## we need origin to right so we flip the plot\n",
    "        ax.invert_yaxis()\n",
    "        fig.set_size_inches((fsz,fsz))\n",
    "        \n",
    "\n",
    "        ## plotting polygons\n",
    "        if map !=False:\n",
    "            polyMap = []\n",
    "            for poly in map:\n",
    "                nPoly = []\n",
    "                for p in poly:\n",
    "                    nPoly.append( (float(p[0][0]),float(p[0][1])))\n",
    "                polyMap.append(nPoly)\n",
    "                \n",
    "            for poly in polyMap:\n",
    "                for i in range(len(poly)-1):\n",
    "                    plt.plot([ poly[i][0],poly[i+1][0] ],[ poly[i][1],poly[i+1][1] ],color=polyColor)\n",
    "                plt.plot([ poly[len(poly)-1][0],poly[0][0] ],[ poly[len(poly)-1][1],poly[0][1] ],color=polyColor)\n",
    "                x = []\n",
    "                y = []\n",
    "                for vertex in poly:\n",
    "                    x.append(vertex[0])\n",
    "                    y.append(vertex[1])\n",
    "                plt.Polygon(poly,color=polyColor)\n",
    "                ax.fill(x,y,color = polyFillColor)  \n",
    "        \n",
    "        #Displaying start and finish\n",
    "        if start != False:\n",
    "            startCircle = plt.Circle(start,radius=1,color=\"black\")\n",
    "            ax.add_artist(startCircle)\n",
    "            ax.text(*start,\"Start\",fontsize=11,color=startColor,weight=\"bold\")\n",
    "        if finish != False:\n",
    "            finishCircle = plt.Circle(finish,radius=1,color=\"black\")\n",
    "            ax.add_artist(finishCircle)\n",
    "            ax.text(*finish,\"Finish\",fontsize=11,color=finishColor,weight=\"bold\")\n",
    "            \n",
    "        if visPos != False:\n",
    "            for i in range(1,len(visPos)):\n",
    "                plt.plot([ visPos[i-1][0],visPos[i][0] ],[ visPos[i-1][1],visPos[i][1] ],color=\"red\",linestyle=\"dashed\",linewidth=2)\n",
    "                        \n",
    "        if kalPos != False:\n",
    "            for i in range(1,len(kalPos)):\n",
    "                plt.plot([ kalPos[i-1][0],kalPos[i][0] ],[ kalPos[i-1][1],kalPos[i][1] ],color=\"blue\",linestyle=\"dashed\",linewidth=2)\n",
    "                        \n",
    "        #displaying the map\n",
    "        plt.show()"
   ]
  },
  {
   "cell_type": "markdown",
   "metadata": {},
   "source": [
    "# Plot trajectories of a given run : "
   ]
  },
  {
   "cell_type": "code",
   "execution_count": 10,
   "metadata": {},
   "outputs": [],
   "source": [
    "def plotTrajectories(data):\n",
    "    visPos = loadKeySeq(data,'visPos')\n",
    "\n",
    "    kalPos = loadKeySeq(data,'fltPos')\n",
    "\n",
    "    start = (data[0]['visPos'][0],data[0]['visPos'][1])\n",
    "    goal = data[-1]['path'][-1]\n",
    "\n",
    "    mp = data[-1]['map']\n",
    "    mapPlot(map = mp,start=start, finish = goal, visPos=visPos,kalPos = kalPos)\n"
   ]
  },
  {
   "cell_type": "code",
   "execution_count": 11,
   "metadata": {},
   "outputs": [
    {
     "name": "stderr",
     "output_type": "stream",
     "text": [
      "<ipython-input-9-4cadf7bda141>:25: DeprecationWarning: elementwise comparison failed; this will raise an error in the future.\n",
      "  if map !=False:\n",
      "/Library/Frameworks/Python.framework/Versions/3.8/lib/python3.8/site-packages/numpy/core/_asarray.py:136: VisibleDeprecationWarning: Creating an ndarray from ragged nested sequences (which is a list-or-tuple of lists-or-tuples-or ndarrays with different lengths or shapes) is deprecated. If you meant to do this, you must specify 'dtype=object' when creating the ndarray\n",
      "  return array(a, dtype, copy=False, order=order, subok=True)\n"
     ]
    },
    {
     "data": {
      "image/png": "[encoded data removed]",
      "text/plain": [
       "<Figure size 576x576 with 1 Axes>"
      ]
     },
     "metadata": {
      "needs_background": "light"
     },
     "output_type": "display_data"
    }
   ],
   "source": [
    "plotTrajectories(data)"
   ]
  },
  {
   "cell_type": "code",
   "execution_count": 67,
   "metadata": {},
   "outputs": [
    {
     "data": {
      "text/plain": [
       "['ASTOLFI',\n",
       " 'ASTOLFI',\n",
       " 'ASTOLFI',\n",
       " 'ASTOLFI',\n",
       " 'ASTOLFI',\n",
       " 'ASTOLFI',\n",
       " 'ASTOLFI',\n",
       " 'ASTOLFI',\n",
       " 'ASTOLFI',\n",
       " 'ASTOLFI',\n",
       " 'ASTOLFI',\n",
       " 'ASTOLFI',\n",
       " 'ASTOLFI',\n",
       " 'ASTOLFI',\n",
       " 'ASTOLFI',\n",
       " 'ASTOLFI',\n",
       " 'ASTOLFI',\n",
       " 'ASTOLFI',\n",
       " 'ASTOLFI',\n",
       " 'ASTOLFI',\n",
       " 'ASTOLFI',\n",
       " 'ASTOLFI',\n",
       " 'ASTOLFI',\n",
       " 'ASTOLFI',\n",
       " 'ASTOLFI',\n",
       " 'ASTOLFI',\n",
       " 'ASTOLFI',\n",
       " 'ASTOLFI',\n",
       " 'ASTOLFI',\n",
       " 'ASTOLFI',\n",
       " 'ASTOLFI',\n",
       " 'ASTOLFI',\n",
       " 'ASTOLFI',\n",
       " 'ASTOLFI',\n",
       " 'ASTOLFI',\n",
       " 'ASTOLFI',\n",
       " 'ASTOLFI',\n",
       " 'ASTOLFI',\n",
       " 'ASTOLFI',\n",
       " 'ASTOLFI',\n",
       " 'ASTOLFI',\n",
       " 'ASTOLFI',\n",
       " 'ASTOLFI',\n",
       " 'ASTOLFI',\n",
       " 'ASTOLFI',\n",
       " 'ASTOLFI',\n",
       " 'ASTOLFI',\n",
       " 'ASTOLFI',\n",
       " 'ASTOLFI',\n",
       " 'ASTOLFI',\n",
       " 'ASTOLFI',\n",
       " 'ASTOLFI',\n",
       " 'ASTOLFI',\n",
       " 'ASTOLFI',\n",
       " 'ASTOLFI',\n",
       " 'ASTOLFI',\n",
       " 'ASTOLFI',\n",
       " 'ASTOLFI',\n",
       " 'ASTOLFI',\n",
       " 'ASTOLFI',\n",
       " 'ASTOLFI',\n",
       " 'ASTOLFI',\n",
       " 'ASTOLFI',\n",
       " 'ASTOLFI',\n",
       " 'ASTOLFI',\n",
       " 'ASTOLFI',\n",
       " 'ASTOLFI',\n",
       " 'ASTOLFI',\n",
       " 'ASTOLFI',\n",
       " 'ASTOLFI',\n",
       " 'ASTOLFI',\n",
       " 'ASTOLFI',\n",
       " 'ASTOLFI',\n",
       " 'ASTOLFI',\n",
       " 'ASTOLFI',\n",
       " 'ASTOLFI',\n",
       " 'ASTOLFI',\n",
       " 'ASTOLFI',\n",
       " 'ASTOLFI',\n",
       " 'ASTOLFI',\n",
       " 'ASTOLFI',\n",
       " 'ASTOLFI',\n",
       " 'ASTOLFI',\n",
       " 'ASTOLFI',\n",
       " 'ASTOLFI',\n",
       " 'ASTOLFI',\n",
       " 'ASTOLFI',\n",
       " 'ASTOLFI',\n",
       " 'ASTOLFI',\n",
       " 'ASTOLFI',\n",
       " 'ASTOLFI',\n",
       " 'ASTOLFI',\n",
       " 'ASTOLFI',\n",
       " 'ASTOLFI',\n",
       " 'ASTOLFI',\n",
       " 'ASTOLFI',\n",
       " 'ASTOLFI',\n",
       " 'ASTOLFI',\n",
       " 'ASTOLFI',\n",
       " 'ASTOLFI',\n",
       " 'ASTOLFI',\n",
       " 'ASTOLFI',\n",
       " 'ASTOLFI',\n",
       " 'ASTOLFI',\n",
       " 'ASTOLFI',\n",
       " 'ASTOLFI',\n",
       " 'ASTOLFI',\n",
       " 'ASTOLFI',\n",
       " 'ASTOLFI',\n",
       " 'ASTOLFI',\n",
       " 'ASTOLFI',\n",
       " 'ASTOLFI',\n",
       " 'ASTOLFI',\n",
       " 'ASTOLFI',\n",
       " 'ASTOLFI',\n",
       " 'ASTOLFI',\n",
       " 'ASTOLFI',\n",
       " 'ASTOLFI',\n",
       " 'ASTOLFI',\n",
       " 'ASTOLFI',\n",
       " 'ASTOLFI',\n",
       " 'ASTOLFI',\n",
       " 'ASTOLFI',\n",
       " 'ASTOLFI',\n",
       " 'ASTOLFI',\n",
       " 'ASTOLFI',\n",
       " 'ASTOLFI',\n",
       " 'ASTOLFI',\n",
       " 'ASTOLFI',\n",
       " 'ASTOLFI',\n",
       " 'ASTOLFI',\n",
       " 'ASTOLFI',\n",
       " 'ASTOLFI',\n",
       " 'ASTOLFI',\n",
       " 'ASTOLFI',\n",
       " 'ASTOLFI',\n",
       " 'ASTOLFI',\n",
       " 'ASTOLFI',\n",
       " 'ASTOLFI',\n",
       " 'ASTOLFI',\n",
       " 'ASTOLFI',\n",
       " 'ASTOLFI',\n",
       " 'ASTOLFI',\n",
       " 'ASTOLFI',\n",
       " 'ASTOLFI',\n",
       " 'ASTOLFI',\n",
       " 'ASTOLFI',\n",
       " 'ASTOLFI',\n",
       " 'ASTOLFI',\n",
       " 'ASTOLFI',\n",
       " 'ASTOLFI',\n",
       " 'ASTOLFI',\n",
       " 'ASTOLFI',\n",
       " 'ASTOLFI',\n",
       " 'ASTOLFI',\n",
       " 'ASTOLFI',\n",
       " 'ASTOLFI',\n",
       " 'ASTOLFI',\n",
       " 'ASTOLFI',\n",
       " 'ASTOLFI',\n",
       " 'ASTOLFI',\n",
       " 'ASTOLFI',\n",
       " 'ASTOLFI',\n",
       " 'ASTOLFI',\n",
       " 'ASTOLFI',\n",
       " 'ASTOLFI',\n",
       " 'ASTOLFI',\n",
       " 'ASTOLFI',\n",
       " 'ASTOLFI',\n",
       " 'ASTOLFI',\n",
       " 'ASTOLFI',\n",
       " 'ASTOLFI',\n",
       " 'ASTOLFI',\n",
       " 'ASTOLFI',\n",
       " 'ASTOLFI',\n",
       " 'ASTOLFI',\n",
       " 'ASTOLFI',\n",
       " 'ASTOLFI',\n",
       " 'ASTOLFI',\n",
       " 'ASTOLFI',\n",
       " 'ASTOLFI',\n",
       " 'ASTOLFI',\n",
       " 'ASTOLFI',\n",
       " 'ASTOLFI',\n",
       " 'ASTOLFI',\n",
       " 'ASTOLFI',\n",
       " 'ASTOLFI',\n",
       " 'ASTOLFI',\n",
       " 'ASTOLFI',\n",
       " 'ASTOLFI',\n",
       " 'ASTOLFI',\n",
       " 'ASTOLFI',\n",
       " 'ASTOLFI',\n",
       " 'ASTOLFI',\n",
       " 'ASTOLFI',\n",
       " 'ASTOLFI',\n",
       " 'ASTOLFI',\n",
       " 'ASTOLFI',\n",
       " 'ASTOLFI',\n",
       " 'ASTOLFI',\n",
       " 'ASTOLFI',\n",
       " 'ASTOLFI',\n",
       " 'ASTOLFI',\n",
       " 'ASTOLFI',\n",
       " 'ASTOLFI']"
      ]
     },
     "execution_count": 67,
     "metadata": {},
     "output_type": "execute_result"
    }
   ],
   "source": [
    "loadKeySeq(data,'state')"
   ]
  },
  {
   "cell_type": "code",
   "execution_count": null,
   "metadata": {},
   "outputs": [],
   "source": []
  }
 ],
 "metadata": {
  "kernelspec": {
   "display_name": "Python 3",
   "language": "python",
   "name": "python3"
  },
  "language_info": {
   "codemirror_mode": {
    "name": "ipython",
    "version": 3
   },
   "file_extension": ".py",
   "mimetype": "text/x-python",
   "name": "python",
   "nbconvert_exporter": "python",
   "pygments_lexer": "ipython3",
   "version": "3.8.6"
  }
 },
 "nbformat": 4,
 "nbformat_minor": 4
}
