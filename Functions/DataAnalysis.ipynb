{
 "cells": [
  {
   "cell_type": "markdown",
   "metadata": {},
   "source": [
    "# History data loading notebook"
   ]
  },
  {
   "cell_type": "code",
   "execution_count": 16,
   "metadata": {},
   "outputs": [],
   "source": [
    "import pickle\n",
    "import matplotlib.pyplot as plt"
   ]
  },
  {
   "cell_type": "code",
   "execution_count": 17,
   "metadata": {},
   "outputs": [],
   "source": [
    "f = open(\"history.pkl\", \"rb\")\n",
    "data = pickle.load(f)"
   ]
  },
  {
   "cell_type": "code",
   "execution_count": 18,
   "metadata": {},
   "outputs": [
    {
     "name": "stdout",
     "output_type": "stream",
     "text": [
      "dict_keys(['visPos', 'fltPos', 'path', 'map', 'goal', 'pathComputed', 'vtime', 'started', 'running', 'time'])\n"
     ]
    }
   ],
   "source": [
    "print(data[0].keys())"
   ]
  },
  {
   "cell_type": "code",
   "execution_count": 19,
   "metadata": {},
   "outputs": [],
   "source": [
    "def loadKeySeq(data, key):\n",
    "    retList = []\n",
    "    for item in data:\n",
    "        retList.append(item[key])\n",
    "        \n",
    "    return retList"
   ]
  },
  {
   "cell_type": "code",
   "execution_count": 20,
   "metadata": {},
   "outputs": [],
   "source": [
    "visTimes = loadKeySeq(data,'vtime')\n",
    "time = loadKeySeq(data,'time')"
   ]
  },
  {
   "cell_type": "code",
   "execution_count": 30,
   "metadata": {},
   "outputs": [
    {
     "name": "stdout",
     "output_type": "stream",
     "text": [
      "['0', '0', '0.38771500000000003', '0.37477600000000066', '0.3773540000000004', '0.3698510000000006', '0.36965199999999854', '0.5238900000000015', '0.38873000000000246', '0.5284660000000017', '0.40007599999999854', '0.4794079999999994', '0.6814539999999987', '0.5866970000000009', '0.6484349999999992', '0.5046390000000045', '0.6375659999999996', '0.38410999999999973', '0.6531979999999962', '0.5358239999999981', '0.39703099999999836']\n",
      "[2.839087, 2.854817, 2.954334, 3.054385, 3.154831, 3.254288, 3.354825, 3.454158, 3.554411, 3.654395, 3.754166, 3.854648, 3.953902, 4.05485, 4.154437, 4.253954, 4.354877, 4.454475, 4.554757, 4.654086, 4.754385]\n"
     ]
    }
   ],
   "source": [
    "print(visTimes)\n",
    "visTimes = [float(el) for el in visTimes]\n",
    "print(time)\n",
    "time = [float(el) for el in time]"
   ]
  },
  {
   "cell_type": "code",
   "execution_count": 31,
   "metadata": {},
   "outputs": [
    {
     "data": {
      "text/plain": [
       "[<matplotlib.lines.Line2D at 0x7f9769423ee0>]"
      ]
     },
     "execution_count": 31,
     "metadata": {},
     "output_type": "execute_result"
    },
    {
     "data": {
      "image/png": "[encoded data removed]",
      "text/plain": [
       "<Figure size 432x288 with 1 Axes>"
      ]
     },
     "metadata": {
      "needs_background": "light"
     },
     "output_type": "display_data"
    }
   ],
   "source": [
    "plt.plot(time,visTimes, 'bo') "
   ]
  },
  {
   "cell_type": "code",
   "execution_count": null,
   "metadata": {},
   "outputs": [],
   "source": []
  }
 ],
 "metadata": {
  "kernelspec": {
   "display_name": "Python 3",
   "language": "python",
   "name": "python3"
  },
  "language_info": {
   "codemirror_mode": {
    "name": "ipython",
    "version": 3
   },
   "file_extension": ".py",
   "mimetype": "text/x-python",
   "name": "python",
   "nbconvert_exporter": "python",
   "pygments_lexer": "ipython3",
   "version": "3.8.6"
  }
 },
 "nbformat": 4,
 "nbformat_minor": 4
}
