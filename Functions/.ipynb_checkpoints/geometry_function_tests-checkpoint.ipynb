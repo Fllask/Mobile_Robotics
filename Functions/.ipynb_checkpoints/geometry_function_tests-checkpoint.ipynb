{
 "cells": [
  {
   "cell_type": "code",
   "execution_count": 1,
   "metadata": {},
   "outputs": [],
   "source": [
    "%matplotlib inline"
   ]
  },
  {
   "cell_type": "code",
   "execution_count": 2,
   "metadata": {},
   "outputs": [
    {
     "ename": "ModuleNotFoundError",
     "evalue": "No module named 'networkx'",
     "output_type": "error",
     "traceback": [
      "\u001b[1;31m---------------------------------------------------------------------------\u001b[0m",
      "\u001b[1;31mModuleNotFoundError\u001b[0m                       Traceback (most recent call last)",
      "\u001b[1;32m<ipython-input-2-65c549e4d152>\u001b[0m in \u001b[0;36m<module>\u001b[1;34m\u001b[0m\n\u001b[0;32m      4\u001b[0m \u001b[1;32mfrom\u001b[0m \u001b[0mIPython\u001b[0m\u001b[1;33m.\u001b[0m\u001b[0mdisplay\u001b[0m \u001b[1;32mimport\u001b[0m \u001b[0mdisplay\u001b[0m\u001b[1;33m\u001b[0m\u001b[1;33m\u001b[0m\u001b[0m\n\u001b[0;32m      5\u001b[0m \u001b[1;33m\u001b[0m\u001b[0m\n\u001b[1;32m----> 6\u001b[1;33m \u001b[1;32mfrom\u001b[0m \u001b[0mGlobal\u001b[0m \u001b[1;32mimport\u001b[0m \u001b[0mGlobal\u001b[0m\u001b[1;33m\u001b[0m\u001b[1;33m\u001b[0m\u001b[0m\n\u001b[0m\u001b[0;32m      7\u001b[0m \u001b[1;32mfrom\u001b[0m \u001b[0mUtilities\u001b[0m \u001b[1;32mimport\u001b[0m \u001b[0mUtilities\u001b[0m\u001b[1;33m\u001b[0m\u001b[1;33m\u001b[0m\u001b[0m\n\u001b[0;32m      8\u001b[0m \u001b[0mut\u001b[0m \u001b[1;33m=\u001b[0m \u001b[0mUtilities\u001b[0m\u001b[1;33m(\u001b[0m\u001b[1;33m)\u001b[0m\u001b[1;33m\u001b[0m\u001b[1;33m\u001b[0m\u001b[0m\n",
      "\u001b[1;32m~\\Documents\\Cours\\MA1\\Basics of mobile Robotic\\Projet\\Functions\\Global.py\u001b[0m in \u001b[0;36m<module>\u001b[1;34m\u001b[0m\n\u001b[0;32m      3\u001b[0m \u001b[1;32mfrom\u001b[0m \u001b[0mUtilities\u001b[0m \u001b[1;32mimport\u001b[0m \u001b[0mUtilities\u001b[0m\u001b[1;33m\u001b[0m\u001b[1;33m\u001b[0m\u001b[0m\n\u001b[0;32m      4\u001b[0m \u001b[1;32mimport\u001b[0m \u001b[0mmatplotlib\u001b[0m\u001b[1;33m.\u001b[0m\u001b[0mpyplot\u001b[0m \u001b[1;32mas\u001b[0m \u001b[0mplt\u001b[0m\u001b[1;33m\u001b[0m\u001b[1;33m\u001b[0m\u001b[0m\n\u001b[1;32m----> 5\u001b[1;33m \u001b[1;32mimport\u001b[0m \u001b[0mnetworkx\u001b[0m \u001b[1;32mas\u001b[0m \u001b[0mnx\u001b[0m\u001b[1;33m\u001b[0m\u001b[1;33m\u001b[0m\u001b[0m\n\u001b[0m\u001b[0;32m      6\u001b[0m \u001b[1;32mimport\u001b[0m \u001b[0mnumpy\u001b[0m \u001b[1;32mas\u001b[0m \u001b[0mnp\u001b[0m\u001b[1;33m\u001b[0m\u001b[1;33m\u001b[0m\u001b[0m\n\u001b[0;32m      7\u001b[0m \u001b[1;32mimport\u001b[0m \u001b[0mitertools\u001b[0m\u001b[1;33m\u001b[0m\u001b[1;33m\u001b[0m\u001b[0m\n",
      "\u001b[1;31mModuleNotFoundError\u001b[0m: No module named 'networkx'"
     ]
    }
   ],
   "source": [
    "from __future__ import print_function\n",
    "from ipywidgets import interact, interactive, fixed, interact_manual\n",
    "import ipywidgets as widgets\n",
    "from IPython.display import display\n",
    "\n",
    "from Global import Global\n",
    "from Utilities import Utilities\n",
    "ut = Utilities()\n",
    "from shapely import geometry as geo\n",
    "import matplotlib.pyplot as plt\n",
    "\n",
    "import numpy as np"
   ]
  },
  {
   "cell_type": "code",
   "execution_count": 16,
   "metadata": {},
   "outputs": [],
   "source": [
    "def plotSegments(segments):\n",
    "    #plotting parameters\n",
    "    fsz = 8 # size of the plotted figure\n",
    "    polyColor = \"blue\" # color of the map polygons\n",
    "    startColor = \"green\" # color of the starting point\n",
    "    finishColor = \"red\" # color the the finish point\n",
    "    debugLineColor = \"black\"\n",
    "\n",
    "    #defining a function to plot a polygon :\n",
    "    #setting map limits\n",
    "    plt.xlim(0,10)\n",
    "    plt.ylim(0,10)\n",
    "\n",
    "    fig = plt.gcf()\n",
    "    ax = fig.gca()\n",
    "\n",
    "    ## we need origin to right so we flip the plot\n",
    "    ax.invert_yaxis()\n",
    "    fig.set_size_inches((fsz,fsz))\n",
    "\n",
    "    #Plotting the debug lines\n",
    "    for line in segments:\n",
    "        plt.plot([ line[0][0],line[1][0] ],[ line[0][1],line[1][1] ],color=\"blue\")\n",
    "\n",
    "    #displaying the map\n",
    "    plt.show()"
   ]
  },
  {
   "cell_type": "markdown",
   "metadata": {},
   "source": [
    "## Testing environnement for the intersect function"
   ]
  },
  {
   "cell_type": "code",
   "execution_count": 17,
   "metadata": {},
   "outputs": [],
   "source": [
    "def testIntersect(ax=1.,ay=1.,bx=3.,by=1.):\n",
    "    seg1 = [(2.,2.),(3.,3.)]\n",
    "    seg2 = [(ax,ay),(bx,by)]\n",
    "    print(intersect(seg1,seg2))\n",
    "    plotSegments([seg1,seg2])\n",
    "    return intersect(seg1,seg2)"
   ]
  },
  {
   "cell_type": "code",
   "execution_count": 18,
   "metadata": {},
   "outputs": [],
   "source": [
    "def intersect(seg1,seg2):\n",
    "    def intersectHelper(s1,s2):\n",
    "        def val(p,q,r):\n",
    "            return (q[1]-p[1])*(r[0]-q[0])-(q[0]-p[0])*(r[1]-q[1])\n",
    "        v = val(s1[0],s1[1],s2[0]) * val(s1[0],s1[1],s2[1])\n",
    "        return v < 0\n",
    "        \n",
    "    return intersectHelper(seg1,seg2) and intersectHelper(seg2,seg1)\n",
    "    "
   ]
  },
  {
   "cell_type": "code",
   "execution_count": 19,
   "metadata": {},
   "outputs": [
    {
     "data": {
      "application/vnd.jupyter.widget-view+json": {
       "model_id": "6ec90e03992946b0afdccaff26fdb858",
       "version_major": 2,
       "version_minor": 0
      },
      "text/plain": [
       "interactive(children=(FloatSlider(value=1.0, description='ax', max=10.0), FloatSlider(value=1.0, description='…"
      ]
     },
     "metadata": {},
     "output_type": "display_data"
    }
   ],
   "source": [
    "w = interactive(testIntersect,ax=(0.,10.),ay=(0.,10.),bx=(0.,10.),by=(0.,10.))\n",
    "display(w)"
   ]
  }
 ],
 "metadata": {
  "kernelspec": {
   "display_name": "Python 3",
   "language": "python",
   "name": "python3"
  },
  "language_info": {
   "codemirror_mode": {
    "name": "ipython",
    "version": 3
   },
   "file_extension": ".py",
   "mimetype": "text/x-python",
   "name": "python",
   "nbconvert_exporter": "python",
   "pygments_lexer": "ipython3",
   "version": "3.7.9"
  }
 },
 "nbformat": 4,
 "nbformat_minor": 4
}
