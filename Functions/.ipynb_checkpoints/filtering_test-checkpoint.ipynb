{
 "cells": [
  {
   "cell_type": "markdown",
   "metadata": {},
   "source": [
    "## Some tests for filtering"
   ]
  },
  {
   "cell_type": "code",
   "execution_count": 1,
   "metadata": {},
   "outputs": [],
   "source": [
    "from Thymio import Thymio\n",
    "from Filtering import Filtering\n",
    "from Robot import Robot\n",
    "import numpy as np\n",
    "import matplotlib.pyplot as plt\n",
    "import math as m"
   ]
  },
  {
   "cell_type": "code",
   "execution_count": 5,
   "metadata": {},
   "outputs": [
    {
     "name": "stdout",
     "output_type": "stream",
     "text": [
      "[[0.0005125 0.        0.0076875 0.       ]\n",
      " [0.        0.0005125 0.        0.0076875]\n",
      " [0.0076875 0.        0.15375   0.       ]\n",
      " [0.        0.0076875 0.        0.15375  ]]\n",
      "[[0. 0. 0. 0.]\n",
      " [0. 0. 0. 0.]\n",
      " [0. 0. 1. 0.]\n",
      " [0. 0. 0. 1.]]\n"
     ]
    }
   ],
   "source": [
    "Ts = 0.1\n",
    "phi = m.pi/4 # in degrees\n",
    "\n",
    "A = np.eye(4)\n",
    "A[0][2] = Ts\n",
    "A[1][3] = Ts\n",
    "\n",
    "\n",
    "B = np.eye(2)\n",
    "\n",
    "robot = Robot(A,B)\n",
    "\n",
    "#Variance on Vx and Vy measures considering results of TP8 and splitting variance on speed split between x and y \n",
    "\n",
    "r = 6.15/4\n",
    "Rvel = np.eye(2)*r\n",
    "\n",
    "\n",
    "#Variance on camera measures (totally arbitrary value)\n",
    "\n",
    "Rcam = np.eye(2)*0.1\n",
    "\n",
    "\n",
    "\n",
    "#Variance on Vx and Vy state considering white noise\n",
    "\n",
    "q = 6.15/4 \n",
    "Q = np.zeros((4,4))\n",
    "\n",
    "Q[0][0] = q*(Ts**3)/3 \n",
    "Q[0][2] = q*(Ts**2)/2 \n",
    "Q[1][1] = q*(Ts**3)/3 \n",
    "Q[1][3] = q*(Ts**2)/2\n",
    "Q[2][0] = q*(Ts**2)/2\n",
    "Q[2][2] = q*Ts\n",
    "Q[3][1] = q*(Ts**2)/2\n",
    "Q[3][3] = q*Ts\n",
    "\n",
    "print(Q)\n",
    "\n",
    "Hvel = np.zeros((4,4))\n",
    "Hvel[2][2] = 1\n",
    "Hvel[3][3] = 1\n",
    "\n",
    "print(Hvel)\n"
   ]
  },
  {
   "cell_type": "code",
   "execution_count": 6,
   "metadata": {},
   "outputs": [],
   "source": [
    "Kalman = Filtering(Rvel,Rcam,Q,robot,Hvel)"
   ]
  },
  {
   "cell_type": "code",
   "execution_count": 10,
   "metadata": {},
   "outputs": [
    {
     "ename": "ValueError",
     "evalue": "shapes (2,2) and (4,) not aligned: 2 (dim 1) != 4 (dim 0)",
     "output_type": "error",
     "traceback": [
      "\u001b[1;31m---------------------------------------------------------------------------\u001b[0m",
      "\u001b[1;31mValueError\u001b[0m                                Traceback (most recent call last)",
      "\u001b[1;32m<ipython-input-10-350a3c0c863e>\u001b[0m in \u001b[0;36m<module>\u001b[1;34m\u001b[0m\n\u001b[0;32m     38\u001b[0m     \u001b[0mXcam\u001b[0m \u001b[1;33m=\u001b[0m \u001b[0mnp\u001b[0m\u001b[1;33m.\u001b[0m\u001b[0marray\u001b[0m\u001b[1;33m(\u001b[0m\u001b[1;33m[\u001b[0m\u001b[0mX\u001b[0m\u001b[1;33m,\u001b[0m\u001b[0mY\u001b[0m\u001b[1;33m]\u001b[0m\u001b[1;33m)\u001b[0m\u001b[1;33m\u001b[0m\u001b[1;33m\u001b[0m\u001b[0m\n\u001b[0;32m     39\u001b[0m \u001b[1;33m\u001b[0m\u001b[0m\n\u001b[1;32m---> 40\u001b[1;33m     \u001b[0mXest\u001b[0m\u001b[1;33m.\u001b[0m\u001b[0mappend\u001b[0m\u001b[1;33m(\u001b[0m\u001b[0mKalman\u001b[0m\u001b[1;33m.\u001b[0m\u001b[0mkalmanRectiligne\u001b[0m\u001b[1;33m(\u001b[0m\u001b[0mXcam\u001b[0m\u001b[1;33m,\u001b[0m \u001b[0mPredicted_states\u001b[0m\u001b[1;33m,\u001b[0m \u001b[0mstates_measured\u001b[0m\u001b[1;33m)\u001b[0m\u001b[1;33m)\u001b[0m\u001b[1;33m\u001b[0m\u001b[1;33m\u001b[0m\u001b[0m\n\u001b[0m\u001b[0;32m     41\u001b[0m \u001b[1;33m\u001b[0m\u001b[0m\n\u001b[0;32m     42\u001b[0m \u001b[1;33m\u001b[0m\u001b[0m\n",
      "\u001b[1;32m~\\Documents\\Cours\\MA1\\Basics of mobile Robotic\\Projet\\Functions\\Filtering.py\u001b[0m in \u001b[0;36mkalmanRectiligne\u001b[1;34m(self, Xcam, Xest_priori, measuredSpeed)\u001b[0m\n\u001b[0;32m     63\u001b[0m         \u001b[1;31m#Update for camera sensor\u001b[0m\u001b[1;33m\u001b[0m\u001b[1;33m\u001b[0m\u001b[1;33m\u001b[0m\u001b[0m\n\u001b[0;32m     64\u001b[0m \u001b[1;33m\u001b[0m\u001b[0m\n\u001b[1;32m---> 65\u001b[1;33m         \u001b[0mX_est\u001b[0m\u001b[1;33m,\u001b[0m \u001b[0mP_est\u001b[0m \u001b[1;33m=\u001b[0m \u001b[0mself\u001b[0m\u001b[1;33m.\u001b[0m\u001b[0mupdate\u001b[0m\u001b[1;33m(\u001b[0m\u001b[0mX_est\u001b[0m\u001b[1;33m,\u001b[0m \u001b[0mP_est\u001b[0m\u001b[1;33m,\u001b[0m \u001b[0mXcam\u001b[0m\u001b[1;33m,\u001b[0m \u001b[0mself\u001b[0m\u001b[1;33m.\u001b[0m\u001b[0mHcam\u001b[0m\u001b[1;33m,\u001b[0m \u001b[0mA\u001b[0m\u001b[1;33m)\u001b[0m\u001b[1;33m\u001b[0m\u001b[1;33m\u001b[0m\u001b[0m\n\u001b[0m\u001b[0;32m     66\u001b[0m \u001b[1;33m\u001b[0m\u001b[0m\n\u001b[0;32m     67\u001b[0m \u001b[1;33m\u001b[0m\u001b[0m\n",
      "\u001b[1;32m~\\Documents\\Cours\\MA1\\Basics of mobile Robotic\\Projet\\Functions\\Filtering.py\u001b[0m in \u001b[0;36mupdate\u001b[1;34m(X_est_priori, P_est_priori, zk, H, A)\u001b[0m\n\u001b[0;32m     27\u001b[0m     \u001b[1;32mdef\u001b[0m \u001b[0mupdate\u001b[0m\u001b[1;33m(\u001b[0m\u001b[0mX_est_priori\u001b[0m\u001b[1;33m,\u001b[0m\u001b[0mP_est_priori\u001b[0m\u001b[1;33m,\u001b[0m \u001b[0mzk\u001b[0m\u001b[1;33m,\u001b[0m \u001b[0mH\u001b[0m\u001b[1;33m,\u001b[0m \u001b[0mA\u001b[0m\u001b[1;33m)\u001b[0m\u001b[1;33m:\u001b[0m\u001b[1;33m\u001b[0m\u001b[1;33m\u001b[0m\u001b[0m\n\u001b[0;32m     28\u001b[0m         \u001b[1;34m\"\"\"Update cov and mean matrices for the velocity measurements\"\"\"\u001b[0m\u001b[1;33m\u001b[0m\u001b[1;33m\u001b[0m\u001b[0m\n\u001b[1;32m---> 29\u001b[1;33m         \u001b[0minnovation\u001b[0m \u001b[1;33m=\u001b[0m \u001b[0mzk\u001b[0m \u001b[1;33m-\u001b[0m \u001b[0mnp\u001b[0m\u001b[1;33m.\u001b[0m\u001b[0mdot\u001b[0m\u001b[1;33m(\u001b[0m\u001b[0mH\u001b[0m\u001b[1;33m,\u001b[0m\u001b[0mX_est_priori\u001b[0m\u001b[1;33m)\u001b[0m\u001b[1;33m\u001b[0m\u001b[1;33m\u001b[0m\u001b[0m\n\u001b[0m\u001b[0;32m     30\u001b[0m         \u001b[1;31m#print(\"S\")\u001b[0m\u001b[1;33m\u001b[0m\u001b[1;33m\u001b[0m\u001b[1;33m\u001b[0m\u001b[0m\n\u001b[0;32m     31\u001b[0m         \u001b[0mS\u001b[0m \u001b[1;33m=\u001b[0m \u001b[0mnp\u001b[0m\u001b[1;33m.\u001b[0m\u001b[0mdot\u001b[0m\u001b[1;33m(\u001b[0m\u001b[0mA\u001b[0m\u001b[1;33m,\u001b[0m \u001b[0mnp\u001b[0m\u001b[1;33m.\u001b[0m\u001b[0mdot\u001b[0m\u001b[1;33m(\u001b[0m\u001b[0mP_est_priori\u001b[0m\u001b[1;33m,\u001b[0m \u001b[0mA\u001b[0m\u001b[1;33m.\u001b[0m\u001b[0mT\u001b[0m\u001b[1;33m)\u001b[0m\u001b[1;33m)\u001b[0m\u001b[1;33m\u001b[0m\u001b[1;33m\u001b[0m\u001b[0m\n",
      "\u001b[1;32m<__array_function__ internals>\u001b[0m in \u001b[0;36mdot\u001b[1;34m(*args, **kwargs)\u001b[0m\n",
      "\u001b[1;31mValueError\u001b[0m: shapes (2,2) and (4,) not aligned: 2 (dim 1) != 4 (dim 0)"
     ]
    }
   ],
   "source": [
    "# Real values of Vx,Vy with V = cst = 50 mm/s\n",
    "Vx = 50*m.cos(phi)\n",
    "\n",
    "Vy = 50*m.sin(phi)\n",
    "\n",
    "# Noisy values of Vx and Vy for 2s at a sampling rate of 0.1s\n",
    "\n",
    "Vx_noisy = Vx + np.random.normal(0,r,300)\n",
    "Vy_noisy = Vy + np.random.normal(0,r,300)\n",
    "\n",
    "# Uncomment to plot Vx,Vy and their noise over time\n",
    "\n",
    "#Vx = np.ones((200,1))*Vx\n",
    "#Vy = np.ones((200,1))*Vy\n",
    "\n",
    "#plt.plot(Vx_noisy,'b')\n",
    "#plt.plot(Vx, 'b')\n",
    "#plt.plot(Vy, 'r')\n",
    "#plt.plot(Vy_noisy,'g')\n",
    "#plt.show\n",
    "\n",
    "# X,Y\n",
    "\n",
    "X=[]\n",
    "Y=[]\n",
    "X_noisy = []\n",
    "Y_noisy = []\n",
    "Xest = []\n",
    "\n",
    "for i in np.arange(0,0.2,Ts):\n",
    "    k = int(i*10)\n",
    "    \n",
    "    X = Vx*i\n",
    "    Y = Vy*i\n",
    "    states_measured = np.array([0,0,Vx_noisy[k],Vy_noisy[k]])\n",
    "                \n",
    "    Predicted_states = np.array([X,Y,Vx,Vy])\n",
    "    Xcam = np.array([X,Y,0,0])\n",
    "\n",
    "    Xest.append(Kalman.kalmanRectiligne(Xcam, Predicted_states, states_measured))\n",
    "    \n",
    "            \n",
    "    \n",
    "    \n",
    "    \n",
    "    \n"
   ]
  },
  {
   "cell_type": "code",
   "execution_count": null,
   "metadata": {},
   "outputs": [],
   "source": []
  }
 ],
 "metadata": {
  "kernelspec": {
   "display_name": "Python 3",
   "language": "python",
   "name": "python3"
  },
  "language_info": {
   "codemirror_mode": {
    "name": "ipython",
    "version": 3
   },
   "file_extension": ".py",
   "mimetype": "text/x-python",
   "name": "python",
   "nbconvert_exporter": "python",
   "pygments_lexer": "ipython3",
   "version": "3.7.9"
  }
 },
 "nbformat": 4,
 "nbformat_minor": 4
}
