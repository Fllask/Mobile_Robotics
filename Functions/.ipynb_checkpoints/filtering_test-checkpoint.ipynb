{
 "cells": [
  {
   "cell_type": "markdown",
   "metadata": {},
   "source": [
    "## Some tests for filtering"
   ]
  },
  {
   "cell_type": "code",
   "execution_count": 1,
   "metadata": {},
   "outputs": [],
   "source": [
    "from Thymio import Thymio\n",
    "from Filtering import Filtering\n",
    "from Robot import Robot\n",
    "import numpy as np\n",
    "import matplotlib.pyplot as plt\n",
    "import math as m"
   ]
  },
  {
   "cell_type": "code",
   "execution_count": 5,
   "metadata": {},
   "outputs": [
    {
     "name": "stdout",
     "output_type": "stream",
     "text": [
      "[[0.0005125 0.        0.0076875 0.       ]\n",
      " [0.        0.0005125 0.        0.0076875]\n",
      " [0.0076875 0.        0.15375   0.       ]\n",
      " [0.        0.0076875 0.        0.15375  ]]\n",
      "[[0. 0. 0. 0.]\n",
      " [0. 0. 0. 0.]\n",
      " [0. 0. 1. 0.]\n",
      " [0. 0. 0. 1.]]\n"
     ]
    }
   ],
   "source": [
    "Ts = 0.1\n",
    "phi = m.pi/4 # in degrees\n",
    "\n",
    "A = np.eye(4)\n",
    "A[0][2] = Ts\n",
    "A[1][3] = Ts\n",
    "\n",
    "\n",
    "B = np.eye(2)\n",
    "\n",
    "robot = Robot(A,B)\n",
    "\n",
    "#Variance on Vx and Vy measures considering results of TP8 and splitting variance on speed split between x and y \n",
    "\n",
    "r = 6.15/4\n",
    "Rvel = np.eye(2)*r\n",
    "\n",
    "\n",
    "#Variance on camera measures (totally arbitrary value)\n",
    "\n",
    "Rcam = np.eye(2)*0.1\n",
    "\n",
    "\n",
    "\n",
    "#Variance on Vx and Vy state considering white noise\n",
    "\n",
    "q = 6.15/4 \n",
    "Q = np.zeros((4,4))\n",
    "\n",
    "Q[0][0] = q*(Ts**3)/3 \n",
    "Q[0][2] = q*(Ts**2)/2 \n",
    "Q[1][1] = q*(Ts**3)/3 \n",
    "Q[1][3] = q*(Ts**2)/2\n",
    "Q[2][0] = q*(Ts**2)/2\n",
    "Q[2][2] = q*Ts\n",
    "Q[3][1] = q*(Ts**2)/2\n",
    "Q[3][3] = q*Ts\n",
    "\n",
    "print(Q)\n",
    "\n",
    "Hvel = np.zeros((4,4))\n",
    "Hvel[2][2] = 1\n",
    "Hvel[3][3] = 1\n",
    "\n",
    "print(Hvel)\n"
   ]
  },
  {
   "cell_type": "code",
   "execution_count": 6,
   "metadata": {},
   "outputs": [],
   "source": [
    "Kalman = Filtering(Rvel,Rcam,Q,robot,Hvel)"
   ]
  },
  {
   "cell_type": "code",
<<<<<<< HEAD
   "execution_count": 4,
   "metadata": {},
   "outputs": [],
=======
   "execution_count": 10,
   "metadata": {},
   "outputs": [
    {
     "ename": "ValueError",
     "evalue": "shapes (2,2) and (4,) not aligned: 2 (dim 1) != 4 (dim 0)",
     "output_type": "error",
     "traceback": [
      "\u001b[1;31m---------------------------------------------------------------------------\u001b[0m",
      "\u001b[1;31mValueError\u001b[0m                                Traceback (most recent call last)",
      "\u001b[1;32m<ipython-input-10-350a3c0c863e>\u001b[0m in \u001b[0;36m<module>\u001b[1;34m\u001b[0m\n\u001b[0;32m     38\u001b[0m     \u001b[0mXcam\u001b[0m \u001b[1;33m=\u001b[0m \u001b[0mnp\u001b[0m\u001b[1;33m.\u001b[0m\u001b[0marray\u001b[0m\u001b[1;33m(\u001b[0m\u001b[1;33m[\u001b[0m\u001b[0mX\u001b[0m\u001b[1;33m,\u001b[0m\u001b[0mY\u001b[0m\u001b[1;33m]\u001b[0m\u001b[1;33m)\u001b[0m\u001b[1;33m\u001b[0m\u001b[1;33m\u001b[0m\u001b[0m\n\u001b[0;32m     39\u001b[0m \u001b[1;33m\u001b[0m\u001b[0m\n\u001b[1;32m---> 40\u001b[1;33m     \u001b[0mXest\u001b[0m\u001b[1;33m.\u001b[0m\u001b[0mappend\u001b[0m\u001b[1;33m(\u001b[0m\u001b[0mKalman\u001b[0m\u001b[1;33m.\u001b[0m\u001b[0mkalmanRectiligne\u001b[0m\u001b[1;33m(\u001b[0m\u001b[0mXcam\u001b[0m\u001b[1;33m,\u001b[0m \u001b[0mPredicted_states\u001b[0m\u001b[1;33m,\u001b[0m \u001b[0mstates_measured\u001b[0m\u001b[1;33m)\u001b[0m\u001b[1;33m)\u001b[0m\u001b[1;33m\u001b[0m\u001b[1;33m\u001b[0m\u001b[0m\n\u001b[0m\u001b[0;32m     41\u001b[0m \u001b[1;33m\u001b[0m\u001b[0m\n\u001b[0;32m     42\u001b[0m \u001b[1;33m\u001b[0m\u001b[0m\n",
      "\u001b[1;32m~\\Documents\\Cours\\MA1\\Basics of mobile Robotic\\Projet\\Functions\\Filtering.py\u001b[0m in \u001b[0;36mkalmanRectiligne\u001b[1;34m(self, Xcam, Xest_priori, measuredSpeed)\u001b[0m\n\u001b[0;32m     63\u001b[0m         \u001b[1;31m#Update for camera sensor\u001b[0m\u001b[1;33m\u001b[0m\u001b[1;33m\u001b[0m\u001b[1;33m\u001b[0m\u001b[0m\n\u001b[0;32m     64\u001b[0m \u001b[1;33m\u001b[0m\u001b[0m\n\u001b[1;32m---> 65\u001b[1;33m         \u001b[0mX_est\u001b[0m\u001b[1;33m,\u001b[0m \u001b[0mP_est\u001b[0m \u001b[1;33m=\u001b[0m \u001b[0mself\u001b[0m\u001b[1;33m.\u001b[0m\u001b[0mupdate\u001b[0m\u001b[1;33m(\u001b[0m\u001b[0mX_est\u001b[0m\u001b[1;33m,\u001b[0m \u001b[0mP_est\u001b[0m\u001b[1;33m,\u001b[0m \u001b[0mXcam\u001b[0m\u001b[1;33m,\u001b[0m \u001b[0mself\u001b[0m\u001b[1;33m.\u001b[0m\u001b[0mHcam\u001b[0m\u001b[1;33m,\u001b[0m \u001b[0mA\u001b[0m\u001b[1;33m)\u001b[0m\u001b[1;33m\u001b[0m\u001b[1;33m\u001b[0m\u001b[0m\n\u001b[0m\u001b[0;32m     66\u001b[0m \u001b[1;33m\u001b[0m\u001b[0m\n\u001b[0;32m     67\u001b[0m \u001b[1;33m\u001b[0m\u001b[0m\n",
      "\u001b[1;32m~\\Documents\\Cours\\MA1\\Basics of mobile Robotic\\Projet\\Functions\\Filtering.py\u001b[0m in \u001b[0;36mupdate\u001b[1;34m(X_est_priori, P_est_priori, zk, H, A)\u001b[0m\n\u001b[0;32m     27\u001b[0m     \u001b[1;32mdef\u001b[0m \u001b[0mupdate\u001b[0m\u001b[1;33m(\u001b[0m\u001b[0mX_est_priori\u001b[0m\u001b[1;33m,\u001b[0m\u001b[0mP_est_priori\u001b[0m\u001b[1;33m,\u001b[0m \u001b[0mzk\u001b[0m\u001b[1;33m,\u001b[0m \u001b[0mH\u001b[0m\u001b[1;33m,\u001b[0m \u001b[0mA\u001b[0m\u001b[1;33m)\u001b[0m\u001b[1;33m:\u001b[0m\u001b[1;33m\u001b[0m\u001b[1;33m\u001b[0m\u001b[0m\n\u001b[0;32m     28\u001b[0m         \u001b[1;34m\"\"\"Update cov and mean matrices for the velocity measurements\"\"\"\u001b[0m\u001b[1;33m\u001b[0m\u001b[1;33m\u001b[0m\u001b[0m\n\u001b[1;32m---> 29\u001b[1;33m         \u001b[0minnovation\u001b[0m \u001b[1;33m=\u001b[0m \u001b[0mzk\u001b[0m \u001b[1;33m-\u001b[0m \u001b[0mnp\u001b[0m\u001b[1;33m.\u001b[0m\u001b[0mdot\u001b[0m\u001b[1;33m(\u001b[0m\u001b[0mH\u001b[0m\u001b[1;33m,\u001b[0m\u001b[0mX_est_priori\u001b[0m\u001b[1;33m)\u001b[0m\u001b[1;33m\u001b[0m\u001b[1;33m\u001b[0m\u001b[0m\n\u001b[0m\u001b[0;32m     30\u001b[0m         \u001b[1;31m#print(\"S\")\u001b[0m\u001b[1;33m\u001b[0m\u001b[1;33m\u001b[0m\u001b[1;33m\u001b[0m\u001b[0m\n\u001b[0;32m     31\u001b[0m         \u001b[0mS\u001b[0m \u001b[1;33m=\u001b[0m \u001b[0mnp\u001b[0m\u001b[1;33m.\u001b[0m\u001b[0mdot\u001b[0m\u001b[1;33m(\u001b[0m\u001b[0mA\u001b[0m\u001b[1;33m,\u001b[0m \u001b[0mnp\u001b[0m\u001b[1;33m.\u001b[0m\u001b[0mdot\u001b[0m\u001b[1;33m(\u001b[0m\u001b[0mP_est_priori\u001b[0m\u001b[1;33m,\u001b[0m \u001b[0mA\u001b[0m\u001b[1;33m.\u001b[0m\u001b[0mT\u001b[0m\u001b[1;33m)\u001b[0m\u001b[1;33m)\u001b[0m\u001b[1;33m\u001b[0m\u001b[1;33m\u001b[0m\u001b[0m\n",
      "\u001b[1;32m<__array_function__ internals>\u001b[0m in \u001b[0;36mdot\u001b[1;34m(*args, **kwargs)\u001b[0m\n",
      "\u001b[1;31mValueError\u001b[0m: shapes (2,2) and (4,) not aligned: 2 (dim 1) != 4 (dim 0)"
     ]
    }
   ],
>>>>>>> dae1790e46bd584f9befeae4254bc79cd82b31b8
   "source": [
    "# Real values of Vx,Vy with V = cst = 50 mm/s\n",
    "Vx = 50*m.cos(phi)\n",
    "\n",
    "Vy = 50*m.sin(phi)\n",
    "\n",
    "# Noisy values of Vx and Vy for 2s at a sampling rate of 0.1s\n",
    "\n",
    "Vx_noisy = Vx + np.random.normal(0,r,300)\n",
    "Vy_noisy = Vy + np.random.normal(0,r,300)\n",
    "\n",
    "# Uncomment to plot Vx,Vy and their noise over time\n",
    "\n",
    "#Vx = np.ones((200,1))*Vx\n",
    "#Vy = np.ones((200,1))*Vy\n",
    "\n",
    "#plt.plot(Vx_noisy,'b')\n",
    "#plt.plot(Vx, 'b')\n",
    "#plt.plot(Vy, 'r')\n",
    "#plt.plot(Vy_noisy,'g')\n",
    "#plt.show\n",
    "\n",
    "# X,Y\n",
    "\n",
    "X=[]\n",
    "Y=[]\n",
    "X_noisy = []\n",
    "Y_noisy = []\n",
    "Xest = []\n",
    "\n",
    "for i in np.arange(0,0.2,Ts):\n",
    "    k = int(i*10)\n",
    "    \n",
    "    X = Vx*i\n",
    "    Y = Vy*i\n",
    "    states_measured = np.array([0,0,Vx_noisy[k],Vy_noisy[k]])\n",
    "                \n",
    "    Predicted_states = np.array([X,Y,Vx,Vy])\n",
    "    Xcam = np.array([X,Y,0,0])\n",
    "\n",
<<<<<<< HEAD
    "\n"
   ]
  },
  {
   "cell_type": "code",
   "execution_count": 5,
   "metadata": {},
   "outputs": [],
   "source": [
    "for i in range(0,200):\n",
    "    Xest.append(Kalman.kalmanRectiligne(Xreal[i], Xnoisy[i], v_target, v_noisy[i]))"
   ]
  },
  {
   "cell_type": "code",
   "execution_count": 6,
   "metadata": {},
   "outputs": [],
   "source": [
    "X = []\n",
    "for i in range(0,200):\n",
    "    X.append(Xest[i][0])"
   ]
  },
  {
   "cell_type": "code",
   "execution_count": 7,
   "metadata": {},
   "outputs": [
    {
     "data": {
      "text/plain": [
       "[<matplotlib.lines.Line2D at 0x7f8c4ccc70d0>]"
      ]
     },
     "execution_count": 7,
     "metadata": {},
     "output_type": "execute_result"
    },
    {
     "data": {
      "image/png": "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\n",
      "text/plain": [
       "<Figure size 432x288 with 1 Axes>"
      ]
     },
     "metadata": {
      "needs_background": "light"
     },
     "output_type": "display_data"
    }
   ],
   "source": [
    "plt.plot(X,'r')\n"
=======
    "    Xest.append(Kalman.kalmanRectiligne(Xcam, Predicted_states, states_measured))\n",
    "    \n",
    "            \n",
    "    \n",
    "    \n",
    "    \n",
    "    \n"
>>>>>>> dae1790e46bd584f9befeae4254bc79cd82b31b8
   ]
  }
 ],
 "metadata": {
  "kernelspec": {
   "display_name": "Python 3",
   "language": "python",
   "name": "python3"
  },
  "language_info": {
   "codemirror_mode": {
    "name": "ipython",
    "version": 3
   },
   "file_extension": ".py",
   "mimetype": "text/x-python",
   "name": "python",
   "nbconvert_exporter": "python",
   "pygments_lexer": "ipython3",
   "version": "3.8.6"
  }
 },
 "nbformat": 4,
 "nbformat_minor": 4
}
