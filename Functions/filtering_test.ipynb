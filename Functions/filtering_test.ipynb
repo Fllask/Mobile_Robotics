{
 "cells": [
  {
   "cell_type": "markdown",
   "metadata": {},
   "source": [
    "## Some tests for filtering"
   ]
  },
  {
   "cell_type": "code",
   "execution_count": 1,
   "metadata": {},
   "outputs": [],
   "source": [
    "from Thymio import Thymio\n",
    "from Filtering import Filtering\n",
    "from Robot import Robot\n",
    "import numpy as np\n",
    "import matplotlib.pyplot as plt\n",
    "import math as m"
   ]
  },
  {
   "cell_type": "code",
   "execution_count": 44,
   "metadata": {},
   "outputs": [
    {
     "name": "stdout",
     "output_type": "stream",
     "text": [
      "[[0.0005125 0.        0.0076875 0.       ]\n",
      " [0.        0.0005125 0.        0.0076875]\n",
      " [0.0076875 0.        0.15375   0.       ]\n",
      " [0.        0.0076875 0.        0.15375  ]]\n",
      "[[0. 0. 1. 0.]\n",
      " [0. 0. 0. 1.]]\n"
     ]
    }
   ],
   "source": [
    "Ts = 0.1\n",
    "phi = m.pi/4 # in degrees\n",
    "\n",
    "A = np.eye(4)\n",
    "A[0][2] = Ts\n",
    "A[1][3] = Ts\n",
    "\n",
    "\n",
    "B = np.eye(2)\n",
    "\n",
    "robot = Robot(A,B)\n",
    "\n",
    "#Variance on Vx and Vy measures considering results of TP8 and splitting variance on speed split between x and y \n",
    "\n",
    "r = 6.15/4\n",
    "Rvel = np.eye(2)*r\n",
    "\n",
    "\n",
    "#Variance on camera measures (totally arbitrary value)\n",
    "\n",
    "Rcam = np.eye(2)*0.1\n",
    "\n",
    "\n",
    "\n",
    "#Variance on Vx and Vy state considering white noise\n",
    "\n",
    "q = 6.15/4 \n",
    "Q = np.zeros((4,4))\n",
    "\n",
    "Q[0][0] = q*(Ts**3)/3 \n",
    "Q[0][2] = q*(Ts**2)/2 \n",
    "Q[1][1] = q*(Ts**3)/3 \n",
    "Q[1][3] = q*(Ts**2)/2\n",
    "Q[2][0] = q*(Ts**2)/2\n",
    "Q[2][2] = q*Ts\n",
    "Q[3][1] = q*(Ts**2)/2\n",
    "Q[3][3] = q*Ts\n",
    "\n",
    "print(Q)\n",
    "\n",
    "Hvel = np.zeros((2,4))\n",
    "Hvel[0][2] = 1\n",
    "Hvel[1][3] = 1\n",
    "\n",
    "print(Hvel)\n"
   ]
  },
  {
   "cell_type": "code",
   "execution_count": 45,
   "metadata": {},
   "outputs": [],
   "source": [
    "Kalman = Filtering(Rvel,Rcam,Q,robot,Hvel)"
   ]
  },
  {
   "cell_type": "code",
   "execution_count": 46,
   "metadata": {},
   "outputs": [],
   "source": [
    "# Real values of Vx,Vy with V = cst = 50 mm/s\n",
    "Vx = 50*m.cos(phi)\n",
    "\n",
    "Vy = 50*m.sin(phi)\n",
    "\n",
    "# Noisy values of Vx and Vy for 2s at a sampling rate of 0.1s\n",
    "\n",
    "Vx_noisy = Vx + np.random.normal(0,r,200)\n",
    "Vy_noisy = Vy + np.random.normal(0,r,200)\n",
    "\n",
    "# Uncomment to plot Vx,Vy and their noise over time\n",
    "\n",
    "VxR = np.ones((200,1))*Vx\n",
    "#Vy = np.ones((200,1))*Vy\n",
    "\n",
    "#plt.plot(Vx_noisy,'b')\n",
    "#plt.plot(Vx, 'b')\n",
    "#plt.plot(Vy, 'r')\n",
    "#plt.plot(Vy_noisy,'g')\n",
    "#plt.show\n",
    "\n",
    "\n",
    "\n",
    "\n",
    "# X,Y\n",
    "\n",
    "X=[]\n",
    "Y=[]\n",
    "X_noisy = []\n",
    "Y_noisy = []\n",
    "statesEst = np.zeros((4,1))\n",
    "Xest = []\n",
    "Yest = []\n",
    "Vxest = []\n",
    "Vyest = []\n",
    "for i in np.arange(0,20,Ts):\n",
    "    k = int(i*10)\n",
    "    X.append(Vx*i)\n",
    "    Y.append(Vy*i)\n",
    "    states_measured = np.array([[Vx_noisy[k],Vy_noisy[k]]]).T\n",
    "    Xcam = np.array([[X[k]+np.random.normal(0,8),Y[k]+ np.random.normal(0,8)]]).T\n",
    "\n",
    "    statesEst = Kalman.kalmanRectiligne(Xcam, statesEst, states_measured)\n",
    "    \n",
    "    \n",
    "    Xest.append(statesEst[0])\n",
    "    Yest.append(statesEst[1])\n",
    "    Vxest.append(statesEst[2])\n",
    "    Vyest.append(statesEst[3]) \n"
   ]
  },
  {
   "cell_type": "code",
   "execution_count": 47,
   "metadata": {},
   "outputs": [
    {
     "data": {
      "text/plain": [
       "<function matplotlib.pyplot.show(close=None, block=None)>"
      ]
     },
     "execution_count": 47,
     "metadata": {},
     "output_type": "execute_result"
    },
    {
     "data": {
      "image/png": "[encoded data removed]",
      "text/plain": [
       "<Figure size 432x288 with 1 Axes>"
      ]
     },
     "metadata": {
      "needs_background": "light"
     },
     "output_type": "display_data"
    }
   ],
   "source": [
    "plt.plot(X,'r')\n",
    "plt.plot(Xest,'b')\n",
    "\n",
    "#plt.plot(Vx_noisy,'g')\n",
    "plt.show"
   ]
  },
  {
   "cell_type": "code",
   "execution_count": null,
   "metadata": {},
   "outputs": [],
   "source": []
  }
 ],
 "metadata": {
  "kernelspec": {
   "display_name": "Python 3",
   "language": "python",
   "name": "python3"
  },
  "language_info": {
   "codemirror_mode": {
    "name": "ipython",
    "version": 3
   },
   "file_extension": ".py",
   "mimetype": "text/x-python",
   "name": "python",
   "nbconvert_exporter": "python",
   "pygments_lexer": "ipython3",
   "version": "3.7.9"
  }
 },
 "nbformat": 4,
 "nbformat_minor": 4
}
