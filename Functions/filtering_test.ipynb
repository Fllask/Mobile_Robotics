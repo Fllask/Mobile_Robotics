{
 "cells": [
  {
   "cell_type": "markdown",
   "metadata": {},
   "source": [
    "## Some tests for filtering"
   ]
  },
  {
   "cell_type": "code",
   "execution_count": 1,
   "metadata": {},
   "outputs": [],
   "source": [
    "from Thymio import Thymio\n",
    "from Filtering import Filtering\n",
    "from Robot import Robot\n",
    "import numpy as np\n",
    "import matplotlib.pyplot as plt\n",
    "import math as m"
   ]
  },
  {
   "cell_type": "code",
   "execution_count": 44,
   "metadata": {},
   "outputs": [
    {
     "name": "stdout",
     "output_type": "stream",
     "text": [
      "[[0.0005125 0.        0.0076875 0.       ]\n",
      " [0.        0.0005125 0.        0.0076875]\n",
      " [0.0076875 0.        0.15375   0.       ]\n",
      " [0.        0.0076875 0.        0.15375  ]]\n",
      "[[0. 0. 1. 0.]\n",
      " [0. 0. 0. 1.]]\n"
     ]
    }
   ],
   "source": [
    "Ts = 0.1\n",
    "phi = m.pi/4 # in degrees\n",
    "\n",
    "A = np.eye(4)\n",
    "A[0][2] = Ts\n",
    "A[1][3] = Ts\n",
    "\n",
    "\n",
    "B = np.eye(2)\n",
    "\n",
    "robot = Robot(A,B)\n",
    "\n",
    "#Variance on Vx and Vy measures considering results of TP8 and splitting variance on speed split between x and y \n",
    "\n",
    "r = 6.15/4\n",
    "Rvel = np.eye(2)*r\n",
    "\n",
    "\n",
    "#Variance on camera measures (totally arbitrary value)\n",
    "\n",
    "Rcam = np.eye(2)*0.1\n",
    "\n",
    "\n",
    "\n",
    "#Variance on Vx and Vy state considering white noise\n",
    "\n",
    "q = 6.15/4 \n",
    "Q = np.zeros((4,4))\n",
    "\n",
    "Q[0][0] = q*(Ts**3)/3 \n",
    "Q[0][2] = q*(Ts**2)/2 \n",
    "Q[1][1] = q*(Ts**3)/3 \n",
    "Q[1][3] = q*(Ts**2)/2\n",
    "Q[2][0] = q*(Ts**2)/2\n",
    "Q[2][2] = q*Ts\n",
    "Q[3][1] = q*(Ts**2)/2\n",
    "Q[3][3] = q*Ts\n",
    "\n",
    "print(Q)\n",
    "\n",
    "Hvel = np.zeros((2,4))\n",
    "Hvel[0][2] = 1\n",
    "Hvel[1][3] = 1\n",
    "\n",
    "print(Hvel)\n"
   ]
  },
  {
   "cell_type": "code",
   "execution_count": 45,
   "metadata": {},
   "outputs": [],
   "source": [
    "Kalman = Filtering(Rvel,Rcam,Q,robot,Hvel)"
   ]
  },
  {
   "cell_type": "code",
<<<<<<< HEAD
   "execution_count": 4,
=======
   "execution_count": 46,
>>>>>>> dae1790e46bd584f9befeae4254bc79cd82b31b8
   "metadata": {},
   "outputs": [],
   "source": [
    "# Real values of Vx,Vy with V = cst = 50 mm/s\n",
    "Vx = 50*m.cos(phi)\n",
    "\n",
    "Vy = 50*m.sin(phi)\n",
    "\n",
    "# Noisy values of Vx and Vy for 2s at a sampling rate of 0.1s\n",
    "\n",
    "Vx_noisy = Vx + np.random.normal(0,r,200)\n",
    "Vy_noisy = Vy + np.random.normal(0,r,200)\n",
    "\n",
    "# Uncomment to plot Vx,Vy and their noise over time\n",
    "\n",
    "VxR = np.ones((200,1))*Vx\n",
    "#Vy = np.ones((200,1))*Vy\n",
    "\n",
    "#plt.plot(Vx_noisy,'b')\n",
    "#plt.plot(Vx, 'b')\n",
    "#plt.plot(Vy, 'r')\n",
    "#plt.plot(Vy_noisy,'g')\n",
    "#plt.show\n",
    "\n",
    "\n",
    "\n",
    "\n",
    "# X,Y\n",
    "\n",
    "X=[]\n",
    "Y=[]\n",
    "X_noisy = []\n",
    "Y_noisy = []\n",
    "statesEst = np.zeros((4,1))\n",
    "Xest = []\n",
    "Yest = []\n",
    "Vxest = []\n",
    "Vyest = []\n",
    "for i in np.arange(0,20,Ts):\n",
    "    k = int(i*10)\n",
    "    X.append(Vx*i)\n",
    "    Y.append(Vy*i)\n",
    "    states_measured = np.array([[Vx_noisy[k],Vy_noisy[k]]]).T\n",
    "    Xcam = np.array([[X[k]+np.random.normal(0,8),Y[k]+ np.random.normal(0,8)]]).T\n",
    "\n",
<<<<<<< HEAD
    "\n"
   ]
  },
  {
   "cell_type": "code",
   "execution_count": 5,
   "metadata": {},
   "outputs": [],
   "source": [
    "for i in range(0,200):\n",
    "    Xest.append(Kalman.kalmanRectiligne(Xreal[i], Xnoisy[i], v_target, v_noisy[i]))"
=======
    "    statesEst = Kalman.kalmanRectiligne(Xcam, statesEst, states_measured)\n",
    "    \n",
    "    \n",
    "    Xest.append(statesEst[0])\n",
    "    Yest.append(statesEst[1])\n",
    "    Vxest.append(statesEst[2])\n",
    "    Vyest.append(statesEst[3]) \n"
>>>>>>> dae1790e46bd584f9befeae4254bc79cd82b31b8
   ]
  },
  {
   "cell_type": "code",
<<<<<<< HEAD
   "execution_count": 6,
   "metadata": {},
   "outputs": [],
   "source": [
    "X = []\n",
    "for i in range(0,200):\n",
    "    X.append(Xest[i][0])"
   ]
  },
  {
   "cell_type": "code",
   "execution_count": 7,
=======
   "execution_count": 47,
>>>>>>> dae1790e46bd584f9befeae4254bc79cd82b31b8
   "metadata": {},
   "outputs": [
    {
     "data": {
      "text/plain": [
<<<<<<< HEAD
       "[<matplotlib.lines.Line2D at 0x7f8c4ccc70d0>]"
      ]
     },
     "execution_count": 7,
=======
       "<function matplotlib.pyplot.show(close=None, block=None)>"
      ]
     },
     "execution_count": 47,
>>>>>>> dae1790e46bd584f9befeae4254bc79cd82b31b8
     "metadata": {},
     "output_type": "execute_result"
    },
    {
     "data": {
<<<<<<< HEAD
      "image/png": "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\n",
=======
      "image/png": "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\n",
>>>>>>> dae1790e46bd584f9befeae4254bc79cd82b31b8
      "text/plain": [
       "<Figure size 432x288 with 1 Axes>"
      ]
     },
     "metadata": {
      "needs_background": "light"
     },
     "output_type": "display_data"
    }
   ],
   "source": [
    "plt.plot(X,'r')\n",
    "plt.plot(Xest,'b')\n",
    "\n",
    "#plt.plot(Vx_noisy,'g')\n",
    "plt.show"
   ]
  }
 ],
 "metadata": {
  "kernelspec": {
   "display_name": "Python 3",
   "language": "python",
   "name": "python3"
  },
  "language_info": {
   "codemirror_mode": {
    "name": "ipython",
    "version": 3
   },
   "file_extension": ".py",
   "mimetype": "text/x-python",
   "name": "python",
   "nbconvert_exporter": "python",
   "pygments_lexer": "ipython3",
   "version": "3.8.6"
  }
 },
 "nbformat": 4,
 "nbformat_minor": 4
}
