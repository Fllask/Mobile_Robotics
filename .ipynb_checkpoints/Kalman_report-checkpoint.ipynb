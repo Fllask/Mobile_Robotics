{
 "cells": [
  {
   "cell_type": "markdown",
   "metadata": {},
   "source": [
    "# Kalman Filtering"
   ]
  },
  {
   "cell_type": "markdown",
   "metadata": {},
   "source": [
    "## Motivation for using Kalman filtering"
   ]
  },
  {
   "cell_type": "markdown",
   "metadata": {},
   "source": [
    "One of the main challenge of this project is to use filtering in order to estimate the exact position of the robot over time. However there are only few sensors at our disposal to do so and there isn't a direct mapping between them and the values of the states used for the control of the robot. There are three sensors at our disposal : \n",
    "1. Motor speed sensors : they give the current value of the wheels' speed. They have a large bandwith but because of their limited precision the integration of the speed results in position drift over time. They also are quite sensitive to environmental noise.\n",
    "2. Accelerometer : It gives the current value of the acceleration, as for the Motor speed sensors even if it has a large bandwith its limmited precision results in speed and position drifts.\n",
    "3. The camera : By using pattern recognition the camera can be used as a position sensor, however due to projection errors and noise it has a low precision on the position measurements, especially regarding the measurements of the angle theta of the robot. \n",
    "\n",
    "Since the control of the robot relies only on its speed, it was decided to only use the **motor speed sensors** and the **camera** to get the measurements of the robot states."
   ]
  },
  {
   "cell_type": "markdown",
   "metadata": {},
   "source": [
    "The kalman filter is an efficient recursive filter which is used to estimate the states of a dynamic system through a series of uncomplete or noisy measurements. It is broadly used in robotic for motion planning, speed or position estimation. The Filter relies on the estimation of the belief by using means vector and covariance matrices which follows multinormals probabilistic laws and therefore allows for efficient sensor fusion. Hence by using it in addition of our control law it allows the estimation of the real position of the robot over time in order to achieve better accuracy and precision in its control."
   ]
  },
  {
   "cell_type": "markdown",
   "metadata": {},
   "source": [
    "\n",
    "## Brief review of how the Kalman Filter works"
   ]
  },
  {
   "cell_type": "markdown",
   "metadata": {},
   "source": [
    "<center><img src = \"Kalman_Report_Pictures/Kalman.png\" width = \"500\"/>"
   ]
  },
  {
   "cell_type": "markdown",
   "metadata": {},
   "source": [
    "<div style=\"text-align: right\"> src : Wikipedia </div>"
   ]
  },
  {
   "cell_type": "markdown",
   "metadata": {},
   "source": [
    "As shown on the figure above the Kalman Filter operate in two steps. The first one is the prediction step : in our case the predicted state is computed by the controler and directly given to the Kalman Filter. The second step is the update step. The equations that governs the Filter are the following : \n",
    "\n",
    "#### State Space model\n",
    "\n",
    "<span style=\"color: #2980B9 ;\">\n",
    "<blockquote>\n",
    "$x_k = A_kX_{k-1} + B_ku_k + w_k$\n",
    "\n",
    "* $A_k$ : is the state transition model\n",
    "* $B_k$ : is the control_input model\n",
    "* $w_k$ : is the process noise which is assumed to follow a multivariate normal distribution of mean **0** and covariance $Q_k : w_k\\sim N(0,Q_k)$\n",
    "</blockquote>\n",
    "</span>\n",
    "    \n",
    "#### Measurements model\n",
    "\n",
    "<span style=\"color: #2980B9 ;\">\n",
    "<blockquote>\n",
    "$z_k = H_kx_k + v_k$\n",
    "\n",
    "* $H_k$ : maps the measure to the state of the model\n",
    "* $v_k$ : is the observation noise which is assumed to follow a multivariate normal distribution of mean **0** and covariance $R_k : w_k\\sim N(0,R_k)$\n",
    "</blockquote>\n",
    "</span>\n",
    "\n",
    "#### Prediction step\n",
    "\n",
    "<span style=\"color: #2980B9 ;\">\n",
    "<blockquote>\n",
    "$\\hat x_{k|k-1} = A_k\\hat x_{k-1|k-1} + B_ku_k$ (Predicted (a priori) state estimate)\n",
    "<br>    \n",
    "$P_{k|k-1} = A_kP_{k-1|k-1}A_k^T + Q_k$ (Predicted (a priori) estimate covariance)\n",
    "</blockquote>\n",
    "</span>\n",
    "\n",
    "#### Update step\n",
    "\n",
    "<span style=\"color: #2980B9 ;\">\n",
    "<blockquote>\n",
    "$\\tilde y_k = z_k - H_k\\hat x_{k|k-1}$ (innovation)\n",
    "<br>    \n",
    "$S_k = H_kP_{k|k-1}H_k^T + R_k$ (innovation covariance)\n",
    "<br>\n",
    "$K_k = P_{k|k-1}H_k^TS_k^{-1}$ (Optimal Kalman Gain)\n",
    "<br>\n",
    "$\\hat x_{k|k} = \\hat x_{k|k-1} + K_k\\tilde y_k$ (Updated (a posteriori) state estimate)\n",
    "<br>\n",
    "$P_{k|k} = (I - K_kH_k)P_{k|k-1}$ (Updated (a posteriori) estimate covariance)\n",
    "</blockquote>\n",
    "</span>"
   ]
  },
  {
   "cell_type": "markdown",
   "metadata": {},
   "source": [
    "## Implementation"
   ]
  },
  {
   "cell_type": "markdown",
   "metadata": {},
   "source": [
    "In order to implement the Kalman Filter few steps are needed the first one is to determine the matrices of the state space model and our measurement model. "
   ]
  },
  {
   "cell_type": "markdown",
   "metadata": {},
   "source": [
    "<span style=\"color: #2980B9 ;\">\n",
    "<blockquote>\n",
    "The Kalman filter is designed to estimate the position of the sytem in cartesian coordinates, it allows the Kalman Filter to be implemented with any type of controller. Hence the state of the system is {$x,y,\\theta,V_L,V_R$} and its state transition matrice is : <br>\n",
    "<center>$ A = \\begin{bmatrix} 1 & 0 & 0 & Ts*cos(\\theta)/2 & Ts*cos(\\theta)/2 \n",
    "                      \\\\ 0 & 1 & 0 & Ts*sin(\\theta)/2 & Ts*sin(\\theta)/2\n",
    "                      \\\\ 0 & 0 & 1 & Ts/2R & -Ts/2R\n",
    "                      \\\\ 0 & 0 & 0 & 1 & 0\n",
    "                      \\\\ 0 & 0 & 0 & 0 & 1\\end{bmatrix}$</center>\n",
    "<br>\n",
    "The input of the system are the output of the Kalman filter hence the matrix $B$ is \"hidden\" inside the matrix $A$.\n",
    "\n",
    "As we can see the state-space equations of the system are non-linear since they depend on $\\theta$. This is a big issue since the Kalman filter only works with Linear systems however we can linearize the system by assuming that during one sample period the angle $\\theta$ is almost constant, hence $cos(\\theta)$ and $sin(\\theta)$ are now constants and the system becomes linear. This approximation comes with costs, indeed for it to be valid we need to ensure that the robot will not be turning to severly or the estimation will become more and more inaccurate. \n",
    "\n",
    "    \n",
    "    \n",
    "    \n"
   ]
  },
  {
   "cell_type": "markdown",
   "metadata": {},
   "source": [
    "Now that the state-space model is define we need to determine the process noise covariance matrice $Q$ and the observation noise ovariance matrices $R_{cam}$ and $R_{vel}$ which are the matrices for the camera measures and the motor speed sensors respectively."
   ]
  },
  {
   "cell_type": "markdown",
   "metadata": {},
   "source": [
    "<span style=\"color: #2980B9 ;\">\n",
    "<blockquote>\n",
    "The matrices $Q$ and $R_{cam}$ are tuned during tests runs, since it is quite hard to estimate their variance, and making some experiments to compute them would be time consuming regarding the time that is allowed for this project. However we need to keep in mind that it must be coherent with the overall system and its different comportment."
   ]
  },
  {
   "cell_type": "markdown",
   "metadata": {},
   "source": [
    "## Results"
   ]
  },
  {
   "cell_type": "markdown",
   "metadata": {},
   "source": [
    "However one could certainly achieve a thiner control of the robot by adding the **Accelerometer** to the Kalman Filter, however the achieved precision whitout it is already pretty good."
   ]
  }
 ],
 "metadata": {
  "kernelspec": {
   "display_name": "Python 3",
   "language": "python",
   "name": "python3"
  },
  "language_info": {
   "codemirror_mode": {
    "name": "ipython",
    "version": 3
   },
   "file_extension": ".py",
   "mimetype": "text/x-python",
   "name": "python",
   "nbconvert_exporter": "python",
   "pygments_lexer": "ipython3",
   "version": "3.7.9"
  }
 },
 "nbformat": 4,
 "nbformat_minor": 4
}
