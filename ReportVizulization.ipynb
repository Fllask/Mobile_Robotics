{
 "cells": [
  {
   "cell_type": "code",
   "execution_count": 13,
   "metadata": {},
   "outputs": [],
   "source": [
    "%matplotlib inline\n",
    "import Functions.Visualization as viz\n",
    "from ipywidgets import interact, interactive, fixed, interact_manual"
   ]
  },
  {
   "cell_type": "code",
   "execution_count": 14,
   "metadata": {},
   "outputs": [],
   "source": [
    "v = viz.Visualization()\n",
    "runs = ['runs/run_1_local.pkl',\n",
    "        'runs/run_2.pkl',\n",
    "        'runs/run_3.pkl',\n",
    "        'runs/run_4.pkl',\n",
    "        'runs/run_5.pkl',\n",
    "        'runs/run_6.pkl',\n",
    "        'runs/run_7.pkl',\n",
    "        'runs/run_8.pkl',\n",
    "        'runs/run_9.pkl',\n",
    "        'runs/run_10.pkl',\n",
    "        'runs/run_11.pkl',\n",
    "        'runs/run_12.pkl',\n",
    "        'runs/run_13_nofilter.pkl',]\n",
    "plots = ['trace',\n",
    "         'ASTOLFI',\n",
    "         'sensor']"
   ]
  },
  {
   "cell_type": "code",
   "execution_count": 15,
   "metadata": {},
   "outputs": [
    {
     "data": {
      "application/vnd.jupyter.widget-view+json": {
       "model_id": "924ff7d0156849d3b427322c776565d0",
       "version_major": 2,
       "version_minor": 0
      },
      "text/plain": [
       "interactive(children=(Dropdown(description='data', options=('runs/run_1_local.pkl', 'runs/run_2.pkl', 'runs/ru…"
      ]
     },
     "metadata": {},
     "output_type": "display_data"
    }
   ],
   "source": [
    "w = interactive(v.metaPlotter,data=runs,plotType=plots)\n",
    "display(w)"
   ]
  },
  {
   "cell_type": "code",
   "execution_count": 12,
   "metadata": {},
   "outputs": [
    {
     "data": {
      "application/vnd.jupyter.widget-view+json": {
       "model_id": "ad6e97577af144ac96580b2b7d8f1aa5",
       "version_major": 2,
       "version_minor": 0
      },
      "text/plain": [
       "interactive(children=(IntSlider(value=30, description='time', max=357), Checkbox(value=True, description='trac…"
      ]
     },
     "metadata": {},
     "output_type": "display_data"
    }
   ],
   "source": [
    "display(v.replay(runs[2]))"
   ]
  },
  {
   "cell_type": "code",
   "execution_count": null,
   "metadata": {},
   "outputs": [],
   "source": []
  }
 ],
 "metadata": {
  "kernelspec": {
   "display_name": "Python 3",
   "language": "python",
   "name": "python3"
  },
  "language_info": {
   "codemirror_mode": {
    "name": "ipython",
    "version": 3
   },
   "file_extension": ".py",
   "mimetype": "text/x-python",
   "name": "python",
   "nbconvert_exporter": "python",
   "pygments_lexer": "ipython3",
   "version": "3.8.6"
  }
 },
 "nbformat": 4,
 "nbformat_minor": 4
}
