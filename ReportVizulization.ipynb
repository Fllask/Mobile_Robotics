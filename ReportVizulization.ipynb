{
 "cells": [
  {
   "cell_type": "code",
   "execution_count": 1,
   "metadata": {},
   "outputs": [],
   "source": [
    "%matplotlib inline\n",
    "import Functions.Visualization as viz\n",
    "from ipywidgets import interact, interactive, fixed, interact_manual"
   ]
  },
  {
   "cell_type": "code",
   "execution_count": 2,
   "metadata": {},
   "outputs": [],
   "source": [
    "v = viz.Visualization()\n",
    "runs = ['runs/run_1_local.pkl',\n",
    "        'runs/run_2.pkl',\n",
    "        'runs/run_3.pkl',\n",
    "        'runs/run_4.pkl',\n",
    "        'runs/run_5.pkl',\n",
    "        'runs/run_6.pkl',\n",
    "        'runs/run_7.pkl',\n",
    "        'runs/run_8.pkl',\n",
    "        'runs/run_9.pkl',\n",
    "        'runs/run_10.pkl',\n",
    "        'runs/run_11.pkl',\n",
    "        'runs/run_12.pkl',\n",
    "        'runs/run_13_nofilter.pkl',]\n",
    "plots = ['trace',\n",
    "         'ASTOLFI',\n",
    "         'sensor']"
   ]
  },
  {
   "cell_type": "code",
   "execution_count": 3,
   "metadata": {},
   "outputs": [
    {
     "data": {
      "application/vnd.jupyter.widget-view+json": {
       "model_id": "2245fb732c5d49b9a4626a126454d77e",
       "version_major": 2,
       "version_minor": 0
      },
      "text/plain": [
       "interactive(children=(Dropdown(description='data', options=('runs/run_1_local.pkl', 'runs/run_2.pkl', 'runs/ru…"
      ]
     },
     "metadata": {},
     "output_type": "display_data"
    }
   ],
   "source": [
    "w = interactive(v.metaPlotter,data=runs,plotType=plots)\n",
    "display(w)"
   ]
  },
  {
   "cell_type": "raw",
   "metadata": {},
   "source": [
    "display(v.replay(runs[2]))"
   ]
  },
  {
   "cell_type": "code",
   "execution_count": 22,
   "metadata": {},
   "outputs": [
    {
     "data": {
      "text/html": [
       "<video src=\"videos/4.mov\" controls  width=\"800\" >\n",
       "      Your browser does not support the <code>video</code> element.\n",
       "    </video>"
      ],
      "text/plain": [
       "<IPython.core.display.Video object>"
      ]
     },
     "execution_count": 22,
     "metadata": {},
     "output_type": "execute_result"
    }
   ],
   "source": [
    "from IPython.display import Video\n",
    "\n",
    "Video(\"videos/4.mov\",width=800)"
   ]
  },
  {
   "cell_type": "code",
   "execution_count": null,
   "metadata": {},
   "outputs": [],
   "source": []
  }
 ],
 "metadata": {
  "kernelspec": {
   "display_name": "Python 3",
   "language": "python",
   "name": "python3"
  },
  "language_info": {
   "codemirror_mode": {
    "name": "ipython",
    "version": 3
   },
   "file_extension": ".py",
   "mimetype": "text/x-python",
   "name": "python",
   "nbconvert_exporter": "python",
   "pygments_lexer": "ipython3",
   "version": "3.8.6"
  }
 },
 "nbformat": 4,
 "nbformat_minor": 4
}
